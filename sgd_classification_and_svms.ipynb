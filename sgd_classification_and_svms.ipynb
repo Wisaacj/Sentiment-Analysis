{
 "cells": [
  {
   "cell_type": "markdown",
   "metadata": {},
   "source": [
    "## Imports & Constants"
   ]
  },
  {
   "cell_type": "code",
   "execution_count": 7,
   "metadata": {},
   "outputs": [],
   "source": [
    "import pandas as pd\n",
    "\n",
    "from sklearn.svm import SVC, NuSVC, LinearSVC\n",
    "from sklearn.linear_model import LogisticRegression\n",
    "\n",
    "from dataset_types import ReviewDataSet\n",
    "from feature_generation import FeatureSetGenerator\n",
    "from feature_normalization import FeatureSetNormalizer\n",
    "from evaluation import BinaryClassifierEvaluator, ClassifiersComparator\n",
    "\n",
    "POSITIVE_REVIEWS_DIR = \"./data/pos/\"\n",
    "NEGATIVE_REVIEWS_DIR = \"./data/neg/\""
   ]
  },
  {
   "cell_type": "markdown",
   "metadata": {},
   "source": [
    "## Data"
   ]
  },
  {
   "cell_type": "code",
   "execution_count": 3,
   "metadata": {},
   "outputs": [],
   "source": [
    "dataset = ReviewDataSet([POSITIVE_REVIEWS_DIR, NEGATIVE_REVIEWS_DIR]).load()"
   ]
  },
  {
   "cell_type": "code",
   "execution_count": 4,
   "metadata": {},
   "outputs": [],
   "source": [
    "feature_set = FeatureSetGenerator(dataset)\\\n",
    "    .remove_stopwords()\\\n",
    "    .remove_punctuation()\\\n",
    "    .lemmatize()\\\n",
    "    .create_n_grams(1)"
   ]
  },
  {
   "cell_type": "code",
   "execution_count": 5,
   "metadata": {},
   "outputs": [],
   "source": [
    "normalizer = FeatureSetNormalizer(feature_set)\n",
    "normalized_feature_set = normalizer.perform_fast_tf_idf()"
   ]
  },
  {
   "cell_type": "code",
   "execution_count": 6,
   "metadata": {},
   "outputs": [],
   "source": [
    "X_train, y_train, X_dev, y_dev, X_test, y_test = normalized_feature_set.split_into_train_dev_test_sets(\"polarity\", 0.3)"
   ]
  },
  {
   "cell_type": "markdown",
   "metadata": {},
   "source": [
    "## Logistic Regression\n",
    "\n",
    "[Tuning Logistic Regression Hyperparameters](https://medium.com/codex/do-i-need-to-tune-logistic-regression-hyperparameters-1cb2b81fca69)"
   ]
  },
  {
   "cell_type": "code",
   "execution_count": 6,
   "metadata": {},
   "outputs": [
    {
     "data": {
      "text/plain": [
       "\n",
       "        Accuracy:  83.8333%\n",
       "        Precision: 82.8479%\n",
       "        Recall:    85.3333%\n",
       "        F1:        84.0722%\n",
       "        "
      ]
     },
     "execution_count": 6,
     "metadata": {},
     "output_type": "execute_result"
    }
   ],
   "source": [
    "log_regression = LogisticRegression(penalty=None, random_state=42).fit(X_train, y_train)\n",
    "\n",
    "lr_dev_set_predictions = log_regression.predict(X_dev)\n",
    "BinaryClassifierEvaluator(y_dev, lr_dev_set_predictions).get_summary()"
   ]
  },
  {
   "cell_type": "markdown",
   "metadata": {},
   "source": [
    "## Support Vector Machines\n",
    "\n",
    "[Sklearn SVMs](https://scikit-learn.org/stable/modules/svm.html)\n",
    "- If the number of features is much greater than the n. of samples, you should avoid overfitting in choosing Kernel functions and regularisation term\n",
    "    - The size of our feature sets are much greater than the number of samples we have (e.g., 40,000 features per sample, with 4,000 samples)"
   ]
  },
  {
   "cell_type": "code",
   "execution_count": 8,
   "metadata": {},
   "outputs": [],
   "source": [
    "svm_classes = [SVC, NuSVC, LinearSVC]\n",
    "svm_performance = ClassifiersComparator([X_train], [y_train]).compare(svm_classes, [X_dev], [y_dev])"
   ]
  },
  {
   "cell_type": "code",
   "execution_count": 10,
   "metadata": {},
   "outputs": [
    {
     "data": {
      "text/html": [
       "<div>\n",
       "<style scoped>\n",
       "    .dataframe tbody tr th:only-of-type {\n",
       "        vertical-align: middle;\n",
       "    }\n",
       "\n",
       "    .dataframe tbody tr th {\n",
       "        vertical-align: top;\n",
       "    }\n",
       "\n",
       "    .dataframe thead th {\n",
       "        text-align: right;\n",
       "    }\n",
       "</style>\n",
       "<table border=\"1\" class=\"dataframe\">\n",
       "  <thead>\n",
       "    <tr style=\"text-align: right;\">\n",
       "      <th></th>\n",
       "      <th>accuracy</th>\n",
       "      <th>precision</th>\n",
       "      <th>recall</th>\n",
       "      <th>f1</th>\n",
       "    </tr>\n",
       "  </thead>\n",
       "  <tbody>\n",
       "    <tr>\n",
       "      <th>SVC - Set 0</th>\n",
       "      <td>0.815000</td>\n",
       "      <td>0.782090</td>\n",
       "      <td>0.873333</td>\n",
       "      <td>0.825197</td>\n",
       "    </tr>\n",
       "    <tr>\n",
       "      <th>NuSVC - Set 0</th>\n",
       "      <td>0.823333</td>\n",
       "      <td>0.797546</td>\n",
       "      <td>0.866667</td>\n",
       "      <td>0.830671</td>\n",
       "    </tr>\n",
       "    <tr>\n",
       "      <th>LinearSVC - Set 0</th>\n",
       "      <td>0.841667</td>\n",
       "      <td>0.833876</td>\n",
       "      <td>0.853333</td>\n",
       "      <td>0.843493</td>\n",
       "    </tr>\n",
       "  </tbody>\n",
       "</table>\n",
       "</div>"
      ],
      "text/plain": [
       "                   accuracy  precision    recall        f1\n",
       "SVC - Set 0        0.815000   0.782090  0.873333  0.825197\n",
       "NuSVC - Set 0      0.823333   0.797546  0.866667  0.830671\n",
       "LinearSVC - Set 0  0.841667   0.833876  0.853333  0.843493"
      ]
     },
     "execution_count": 10,
     "metadata": {},
     "output_type": "execute_result"
    }
   ],
   "source": [
    "svm_performance.sort_values(by=\"f1\")"
   ]
  },
  {
   "cell_type": "markdown",
   "metadata": {},
   "source": [
    "## Hyperparameter Optimisation"
   ]
  },
  {
   "cell_type": "code",
   "execution_count": null,
   "metadata": {},
   "outputs": [],
   "source": []
  }
 ],
 "metadata": {
  "kernelspec": {
   "display_name": "base",
   "language": "python",
   "name": "python3"
  },
  "language_info": {
   "codemirror_mode": {
    "name": "ipython",
    "version": 3
   },
   "file_extension": ".py",
   "mimetype": "text/x-python",
   "name": "python",
   "nbconvert_exporter": "python",
   "pygments_lexer": "ipython3",
   "version": "3.11.3"
  }
 },
 "nbformat": 4,
 "nbformat_minor": 2
}
